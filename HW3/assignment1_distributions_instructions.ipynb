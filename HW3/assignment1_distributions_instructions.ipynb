{
 "cells": [
  {
   "cell_type": "code",
   "execution_count": 1,
   "metadata": {
    "collapsed": false
   },
   "outputs": [],
   "source": [
    "from __future__ import print_function\n",
    "__author__= 'fbb'\n",
    "import os\n",
    "\n",
    "from scipy.optimize import curve_fit, minimize\n",
    "    \n"
   ]
  },
  {
   "cell_type": "markdown",
   "metadata": {},
   "source": [
    "## choose which distributions to use "
   ]
  },
  {
   "cell_type": "code",
   "execution_count": 2,
   "metadata": {
    "collapsed": true
   },
   "outputs": [],
   "source": [
    "#distributions = ['pois', 'gaus', 'chisq', 'cauchy', 'lnorm', 'binomial']\n",
    "distributions = ['chisq']\n"
   ]
  },
  {
   "cell_type": "markdown",
   "metadata": {
    "collapsed": true
   },
   "source": [
    "##and which mean to give it"
   ]
  },
  {
   "cell_type": "code",
   "execution_count": 3,
   "metadata": {
    "collapsed": false
   },
   "outputs": [],
   "source": [
    "mymean=100\n",
    "\n"
   ]
  },
  {
   "cell_type": "markdown",
   "metadata": {},
   "source": [
    "#Let's see what this distribution looks like, what is the PDF, and how are the moments defined. Wikipedia is great for this! \n",
    "\n",
    "![1](chisq1.png)\n",
    "\n",
    "![2](chisq2.png)"
   ]
  },
  {
   "cell_type": "markdown",
   "metadata": {},
   "source": [
    "#Then lets look at the numpy random sampling package to see how I create the distribution\n",
    "http://docs.scipy.org/doc/numpy/reference/routines.random.html\n",
    "http://docs.scipy.org/doc/numpy/reference/generated/numpy.random.chisquare.html#numpy.random.chisquare\n",
    "\n",
    "![numpy](numpy_chisq.png)\n"
   ]
  },
  {
   "cell_type": "code",
   "execution_count": 5,
   "metadata": {
    "collapsed": false
   },
   "outputs": [],
   "source": [
    "#the chi sq distribution takes the number of degrees of freedom, which luckily is the same as the mean!\n",
    "df = 100"
   ]
  },
  {
   "cell_type": "markdown",
   "metadata": {},
   "source": [
    "## i am making a dictionary to host the distributions.\n",
    "\n",
    "that is only one possible option. with a dictionary i can easily inspect the distribution i want by its name: it is a very human friendly data structure. Of course i am only using a single distribution, so for me it is overkill, but if i were doing the whole exercise with 6 distributions it would be useful!\n",
    "\n",
    "Lets start by looking at a single chi sq distribution"
   ]
  },
  {
   "cell_type": "code",
   "execution_count": 10,
   "metadata": {
    "collapsed": false
   },
   "outputs": [
    {
     "name": "stdout",
     "output_type": "stream",
     "text": [
      "Populating the interactive namespace from numpy and matplotlib\n"
     ]
    },
    {
     "name": "stderr",
     "output_type": "stream",
     "text": [
      "/usr/local/lib/python2.7/dist-packages/matplotlib-1.4.3-py2.7-linux-x86_64.egg/matplotlib/__init__.py:855: UserWarning: svg.embed_char_paths is deprecated and replaced with svg.fonttype; please use the latter.\n",
      "  warnings.warn(self.msg_depr % (key, alt_key))\n"
     ]
    },
    {
     "data": {
      "text/plain": [
       "<matplotlib.text.Text at 0x7fb8d490ef90>"
      ]
     },
     "execution_count": 10,
     "metadata": {},
     "output_type": "execute_result"
    },
    {
     "data": {
      "image/png": "[encoded data removed]",
      "text/plain": [
       "<matplotlib.figure.Figure at 0x7fb8a696ef50>"
      ]
     },
     "metadata": {},
     "output_type": "display_data"
    }
   ],
   "source": [
    "#note: i am adding imports here, to show the workflow: \n",
    "#at this point i realize what packages i need and i import them. \n",
    "#but it is a good habit to put the includes at the top \n",
    "#so the code fails right away if the packages are missing. \n",
    "#otherwise a user may have to code running for a long time, and then fail when the package cannot be imported... \n",
    "#(unless they are only imported under conditions, e.g. in an if statement)\n",
    "\n",
    "import numpy as np\n",
    "md={}\n",
    "#md is an empty disctionary\n",
    "md['chisq'] = np.random.chisquare(df, size=100)\n",
    "#md now is a dictionary with one object: an array by the key 'chisq'\n",
    "\n",
    "import pylab as pl\n",
    "import json\n",
    "s = json.load( open('fbb_matplotlibrc.json') )\n",
    "pl.rcParams.update(s)\n",
    "\n",
    "%pylab inline\n",
    "pl.hist(md['chisq'],bins=30)\n",
    "pl.ylabel('N')\n",
    "pl.xlabel('x')"
   ]
  },
  {
   "cell_type": "markdown",
   "metadata": {},
   "source": [
    "##lets see what the mean and std of this distributions are"
   ]
  },
  {
   "cell_type": "code",
   "execution_count": 11,
   "metadata": {
    "collapsed": false
   },
   "outputs": [
    {
     "name": "stdout",
     "output_type": "stream",
     "text": [
      "Chisq mean: 97.40, standard deviation: 13.13\n"
     ]
    }
   ],
   "source": [
    "print (\"Chisq mean: %.2f, standard deviation: %.2f\"%(md['chisq'].mean(), md['chisq'].std()))"
   ]
  },
  {
   "cell_type": "markdown",
   "metadata": {},
   "source": [
    "## Now let's do it for 100 Chisq distributions\n",
    "we want distributions of different sizes (all integers between 10 and 1000)"
   ]
  },
  {
   "cell_type": "code",
   "execution_count": 12,
   "metadata": {
    "collapsed": false
   },
   "outputs": [
    {
     "name": "stdout",
     "output_type": "stream",
     "text": [
      "[1000  500  333  250  200  166  142  125  111  100   90   83   76   71   66\n",
      "   62   58   55   52   50   47   45   43   41   40   38   37   35   34   33\n",
      "   32   31   30   29   28   27   27   26   25   25   24   23   23   22   22\n",
      "   21   21   20   20   20   19   19   18   18   18   17   17   17   16   16\n",
      "   16   16   15   15   15   15   14   14   14   14   14   13   13   13   13\n",
      "   13   12   12   12   12   12   12   12   11   11   11   11   11   11   11\n",
      "   10   10   10   10   10   10   10   10   10  100] (100,)\n"
     ]
    }
   ],
   "source": [
    "#mysize=1000/(np.array(range(1,100)))\n",
    "mysize=1000/(np.array(range(1,100)+[10]))\n",
    "#mysize=(np.random.rand(100)*1000).astype(int)\n",
    "print (mysize, mysize.shape)"
   ]
  },
  {
   "cell_type": "code",
   "execution_count": 13,
   "metadata": {
    "collapsed": false
   },
   "outputs": [
    {
     "data": {
      "image/png": "[encoded data removed]",
      "text/plain": [
       "<matplotlib.figure.Figure at 0x7fb8a6892fd0>"
      ]
     },
     "metadata": {},
     "output_type": "display_data"
    }
   ],
   "source": [
    "#I am gonna overwrite the disctionary entry created into a nested dictionary (not PEP8...)\n",
    "\n",
    "md['chisq']={} \n",
    "\n",
    "#and do it in a for loop. not pythonic, sigh..\n",
    "\n",
    "for n in mysize:\n",
    "    md['chisq'][n] = np.random.chisquare(df, size=n)\n",
    "    \n",
    "means = {}\n",
    "means['chisq'] = {}\n",
    "fig_mu_N = pl.figure(figsize=(10,10))\n",
    "axchisq_mu_n = fig_mu_N.add_subplot(111)\n",
    "for nn in md['chisq'].iterkeys():\n",
    "    means['chisq'][nn] = md['chisq'][nn].mean()\n",
    "    #and plot it\n",
    "    axchisq_mu_n.plot(nn, means['chisq'][nn], 'o')\n",
    "    axchisq_mu_n.set_xlabel('sample size')\n",
    "    axchisq_mu_n.set_ylabel('sample mean')\n",
    "    axchisq_mu_n.plot([min(mysize), max(mysize)],[df,df], 'k')\n",
    "    \n",
    "    "
   ]
  },
  {
   "cell_type": "markdown",
   "metadata": {},
   "source": [
    "#now the histogram of the mean of all samples: \n",
    "##this requires some data wrangling, since i put the data in a dictionary which is a user friendly data structure, but perhaps not the most machine friendly one\n",
    "\n",
    "a coder friendly, though not terribly pythonic way to do it is to append each mean in a list in a for loop, and then hist that. be careful: if your data size gets large this becomes a very bad idea!!"
   ]
  },
  {
   "cell_type": "code",
   "execution_count": 14,
   "metadata": {
    "collapsed": false
   },
   "outputs": [
    {
     "data": {
      "text/plain": [
       "<matplotlib.text.Text at 0x7fb8a62ba6d0>"
      ]
     },
     "execution_count": 14,
     "metadata": {},
     "output_type": "execute_result"
    },
    {
     "data": {
      "image/png": "[encoded data removed]",
      "text/plain": [
       "<matplotlib.figure.Figure at 0x7fb8ad63c510>"
      ]
     },
     "metadata": {},
     "output_type": "display_data"
    }
   ],
   "source": [
    "allmeans=[]\n",
    "for n in means['chisq']:\n",
    "    allmeans.append(means['chisq'][n])\n",
    "pl.figure(figsize=(10,10))\n",
    "pl.hist(allmeans,bins=30)\n",
    "pl.xlabel('sample mean')\n",
    "pl.ylabel('N')"
   ]
  },
  {
   "cell_type": "markdown",
   "metadata": {
    "collapsed": true
   },
   "source": [
    "# !!! now you do it for a lot more distributions! \n",
    "## make sure you use distribution where the parameters that are passed can be related to the mean. \n",
    "\n"
   ]
  },
  {
   "cell_type": "code",
   "execution_count": null,
   "metadata": {
    "collapsed": true
   },
   "outputs": [],
   "source": []
  }
 ],
 "metadata": {
  "kernelspec": {
   "display_name": "Python 2",
   "language": "python",
   "name": "python2"
  },
  "language_info": {
   "codemirror_mode": {
    "name": "ipython",
    "version": 2
   },
   "file_extension": ".py",
   "mimetype": "text/x-python",
   "name": "python",
   "nbconvert_exporter": "python",
   "pygments_lexer": "ipython2",
   "version": "2.7.6"
  }
 },
 "nbformat": 4,
 "nbformat_minor": 0
}
