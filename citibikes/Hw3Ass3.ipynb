{
 "cells": [
  {
   "cell_type": "code",
   "execution_count": 15,
   "metadata": {
    "collapsed": true
   },
   "outputs": [],
   "source": [
    "import pandas as pd\n",
    "from scipy import stats\n",
    "import matplotlib.pyplot as plt\n",
    "%matplotlib inline"
   ]
  },
  {
   "cell_type": "code",
   "execution_count": 17,
   "metadata": {
    "collapsed": false
   },
   "outputs": [],
   "source": [
    "## load data\n",
    "data = pd.read_csv(\"201502-citibike-tripdata.csv\")"
   ]
  },
  {
   "cell_type": "markdown",
   "metadata": {},
   "source": [
    "# Data Description"
   ]
  },
  {
   "cell_type": "code",
   "execution_count": 29,
   "metadata": {
    "collapsed": false
   },
   "outputs": [
    {
     "data": {
      "text/html": [
       "<div>\n",
       "<table border=\"1\" class=\"dataframe\">\n",
       "  <thead>\n",
       "    <tr style=\"text-align: right;\">\n",
       "      <th></th>\n",
       "      <th>tripduration</th>\n",
       "      <th>start station id</th>\n",
       "      <th>start station latitude</th>\n",
       "      <th>start station longitude</th>\n",
       "      <th>end station id</th>\n",
       "      <th>end station latitude</th>\n",
       "      <th>end station longitude</th>\n",
       "      <th>bikeid</th>\n",
       "      <th>birth year</th>\n",
       "      <th>gender</th>\n",
       "      <th>weekday</th>\n",
       "    </tr>\n",
       "  </thead>\n",
       "  <tbody>\n",
       "    <tr>\n",
       "      <th>count</th>\n",
       "      <td>196930.000000</td>\n",
       "      <td>196930.000000</td>\n",
       "      <td>196930.000000</td>\n",
       "      <td>196930.000000</td>\n",
       "      <td>196930.000000</td>\n",
       "      <td>196930.000000</td>\n",
       "      <td>196930.000000</td>\n",
       "      <td>196930.000000</td>\n",
       "      <td>194663.000000</td>\n",
       "      <td>196930.000000</td>\n",
       "      <td>196930.000000</td>\n",
       "    </tr>\n",
       "    <tr>\n",
       "      <th>mean</th>\n",
       "      <td>649.383207</td>\n",
       "      <td>438.669949</td>\n",
       "      <td>40.735784</td>\n",
       "      <td>-73.990074</td>\n",
       "      <td>438.540695</td>\n",
       "      <td>40.735530</td>\n",
       "      <td>-73.990391</td>\n",
       "      <td>18120.012278</td>\n",
       "      <td>1975.288031</td>\n",
       "      <td>1.156203</td>\n",
       "      <td>2.922703</td>\n",
       "    </tr>\n",
       "    <tr>\n",
       "      <th>std</th>\n",
       "      <td>873.231710</td>\n",
       "      <td>321.320871</td>\n",
       "      <td>0.018569</td>\n",
       "      <td>0.011522</td>\n",
       "      <td>321.595789</td>\n",
       "      <td>0.018480</td>\n",
       "      <td>0.011508</td>\n",
       "      <td>2074.916613</td>\n",
       "      <td>11.734009</td>\n",
       "      <td>0.393946</td>\n",
       "      <td>1.754617</td>\n",
       "    </tr>\n",
       "    <tr>\n",
       "      <th>min</th>\n",
       "      <td>60.000000</td>\n",
       "      <td>72.000000</td>\n",
       "      <td>40.680342</td>\n",
       "      <td>-74.017134</td>\n",
       "      <td>72.000000</td>\n",
       "      <td>40.680342</td>\n",
       "      <td>-74.017134</td>\n",
       "      <td>14530.000000</td>\n",
       "      <td>1899.000000</td>\n",
       "      <td>0.000000</td>\n",
       "      <td>0.000000</td>\n",
       "    </tr>\n",
       "    <tr>\n",
       "      <th>25%</th>\n",
       "      <td>340.000000</td>\n",
       "      <td>307.000000</td>\n",
       "      <td>40.723684</td>\n",
       "      <td>-73.997901</td>\n",
       "      <td>307.000000</td>\n",
       "      <td>40.723627</td>\n",
       "      <td>-73.998102</td>\n",
       "      <td>16338.000000</td>\n",
       "      <td>1967.000000</td>\n",
       "      <td>1.000000</td>\n",
       "      <td>2.000000</td>\n",
       "    </tr>\n",
       "    <tr>\n",
       "      <th>50%</th>\n",
       "      <td>507.000000</td>\n",
       "      <td>417.000000</td>\n",
       "      <td>40.737815</td>\n",
       "      <td>-73.990093</td>\n",
       "      <td>415.000000</td>\n",
       "      <td>40.737262</td>\n",
       "      <td>-73.990697</td>\n",
       "      <td>18089.000000</td>\n",
       "      <td>1977.000000</td>\n",
       "      <td>1.000000</td>\n",
       "      <td>3.000000</td>\n",
       "    </tr>\n",
       "    <tr>\n",
       "      <th>75%</th>\n",
       "      <td>764.000000</td>\n",
       "      <td>491.000000</td>\n",
       "      <td>40.750380</td>\n",
       "      <td>-73.981854</td>\n",
       "      <td>491.000000</td>\n",
       "      <td>40.750200</td>\n",
       "      <td>-73.981923</td>\n",
       "      <td>19886.000000</td>\n",
       "      <td>1985.000000</td>\n",
       "      <td>1.000000</td>\n",
       "      <td>4.000000</td>\n",
       "    </tr>\n",
       "    <tr>\n",
       "      <th>max</th>\n",
       "      <td>43016.000000</td>\n",
       "      <td>3002.000000</td>\n",
       "      <td>40.771522</td>\n",
       "      <td>-73.950048</td>\n",
       "      <td>3002.000000</td>\n",
       "      <td>40.771522</td>\n",
       "      <td>-73.950048</td>\n",
       "      <td>21703.000000</td>\n",
       "      <td>1999.000000</td>\n",
       "      <td>2.000000</td>\n",
       "      <td>6.000000</td>\n",
       "    </tr>\n",
       "  </tbody>\n",
       "</table>\n",
       "</div>"
      ],
      "text/plain": [
       "        tripduration  start station id  start station latitude  \\\n",
       "count  196930.000000     196930.000000           196930.000000   \n",
       "mean      649.383207        438.669949               40.735784   \n",
       "std       873.231710        321.320871                0.018569   \n",
       "min        60.000000         72.000000               40.680342   \n",
       "25%       340.000000        307.000000               40.723684   \n",
       "50%       507.000000        417.000000               40.737815   \n",
       "75%       764.000000        491.000000               40.750380   \n",
       "max     43016.000000       3002.000000               40.771522   \n",
       "\n",
       "       start station longitude  end station id  end station latitude  \\\n",
       "count            196930.000000   196930.000000         196930.000000   \n",
       "mean                -73.990074      438.540695             40.735530   \n",
       "std                   0.011522      321.595789              0.018480   \n",
       "min                 -74.017134       72.000000             40.680342   \n",
       "25%                 -73.997901      307.000000             40.723627   \n",
       "50%                 -73.990093      415.000000             40.737262   \n",
       "75%                 -73.981854      491.000000             40.750200   \n",
       "max                 -73.950048     3002.000000             40.771522   \n",
       "\n",
       "       end station longitude         bikeid     birth year         gender  \\\n",
       "count          196930.000000  196930.000000  194663.000000  196930.000000   \n",
       "mean              -73.990391   18120.012278    1975.288031       1.156203   \n",
       "std                 0.011508    2074.916613      11.734009       0.393946   \n",
       "min               -74.017134   14530.000000    1899.000000       0.000000   \n",
       "25%               -73.998102   16338.000000    1967.000000       1.000000   \n",
       "50%               -73.990697   18089.000000    1977.000000       1.000000   \n",
       "75%               -73.981923   19886.000000    1985.000000       1.000000   \n",
       "max               -73.950048   21703.000000    1999.000000       2.000000   \n",
       "\n",
       "             weekday  \n",
       "count  196930.000000  \n",
       "mean        2.922703  \n",
       "std         1.754617  \n",
       "min         0.000000  \n",
       "25%         2.000000  \n",
       "50%         3.000000  \n",
       "75%         4.000000  \n",
       "max         6.000000  "
      ]
     },
     "execution_count": 29,
     "metadata": {},
     "output_type": "execute_result"
    }
   ],
   "source": [
    "data.describe()"
   ]
  },
  {
   "cell_type": "markdown",
   "metadata": {},
   "source": [
    "###We chose the February 2015 dataset. For the tripduration, there is the total 196930 data, and the mean is 649.383207. The standard deviation is 873.23171. "
   ]
  },
  {
   "cell_type": "markdown",
   "metadata": {},
   "source": [
    "#Idea \n",
    "###There is a difference in trip durations between weekdays and weekends.\n",
    "The traffic volume during the weekdays and weekends is significantly different in New York City. Several different factors vary between weekdays and weekends and influence trip duration data. There might be a significant difference between weekdays and weekends Citibike trip duration."
   ]
  },
  {
   "cell_type": "code",
   "execution_count": 18,
   "metadata": {
    "collapsed": false
   },
   "outputs": [
    {
     "data": {
      "text/html": [
       "<div>\n",
       "<table border=\"1\" class=\"dataframe\">\n",
       "  <thead>\n",
       "    <tr style=\"text-align: right;\">\n",
       "      <th></th>\n",
       "      <th>tripduration</th>\n",
       "      <th>starttime</th>\n",
       "      <th>stoptime</th>\n",
       "      <th>start station id</th>\n",
       "      <th>start station name</th>\n",
       "      <th>start station latitude</th>\n",
       "      <th>start station longitude</th>\n",
       "      <th>end station id</th>\n",
       "      <th>end station name</th>\n",
       "      <th>end station latitude</th>\n",
       "      <th>end station longitude</th>\n",
       "      <th>bikeid</th>\n",
       "      <th>usertype</th>\n",
       "      <th>birth year</th>\n",
       "      <th>gender</th>\n",
       "      <th>date</th>\n",
       "      <th>weekday</th>\n",
       "    </tr>\n",
       "  </thead>\n",
       "  <tbody>\n",
       "    <tr>\n",
       "      <th>0</th>\n",
       "      <td>801</td>\n",
       "      <td>2/1/2015 0:00</td>\n",
       "      <td>2/1/2015 0:14</td>\n",
       "      <td>521</td>\n",
       "      <td>8 Ave &amp; W 31 St</td>\n",
       "      <td>40.750450</td>\n",
       "      <td>-73.994811</td>\n",
       "      <td>423</td>\n",
       "      <td>W 54 St &amp; 9 Ave</td>\n",
       "      <td>40.765849</td>\n",
       "      <td>-73.986905</td>\n",
       "      <td>17131</td>\n",
       "      <td>Subscriber</td>\n",
       "      <td>1978</td>\n",
       "      <td>2</td>\n",
       "      <td>2015-02-01 00:00:00</td>\n",
       "      <td>6</td>\n",
       "    </tr>\n",
       "    <tr>\n",
       "      <th>1</th>\n",
       "      <td>379</td>\n",
       "      <td>2/1/2015 0:00</td>\n",
       "      <td>2/1/2015 0:07</td>\n",
       "      <td>497</td>\n",
       "      <td>E 17 St &amp; Broadway</td>\n",
       "      <td>40.737050</td>\n",
       "      <td>-73.990093</td>\n",
       "      <td>504</td>\n",
       "      <td>1 Ave &amp; E 15 St</td>\n",
       "      <td>40.732219</td>\n",
       "      <td>-73.981656</td>\n",
       "      <td>21289</td>\n",
       "      <td>Subscriber</td>\n",
       "      <td>1993</td>\n",
       "      <td>1</td>\n",
       "      <td>2015-02-01 00:00:00</td>\n",
       "      <td>6</td>\n",
       "    </tr>\n",
       "    <tr>\n",
       "      <th>2</th>\n",
       "      <td>2474</td>\n",
       "      <td>2/1/2015 0:01</td>\n",
       "      <td>2/1/2015 0:42</td>\n",
       "      <td>281</td>\n",
       "      <td>Grand Army Plaza &amp; Central Park S</td>\n",
       "      <td>40.764397</td>\n",
       "      <td>-73.973715</td>\n",
       "      <td>127</td>\n",
       "      <td>Barrow St &amp; Hudson St</td>\n",
       "      <td>40.731724</td>\n",
       "      <td>-74.006744</td>\n",
       "      <td>18903</td>\n",
       "      <td>Subscriber</td>\n",
       "      <td>1969</td>\n",
       "      <td>2</td>\n",
       "      <td>2015-02-01 00:01:00</td>\n",
       "      <td>6</td>\n",
       "    </tr>\n",
       "    <tr>\n",
       "      <th>3</th>\n",
       "      <td>818</td>\n",
       "      <td>2/1/2015 0:01</td>\n",
       "      <td>2/1/2015 0:15</td>\n",
       "      <td>2004</td>\n",
       "      <td>6 Ave &amp; Broome St</td>\n",
       "      <td>40.724399</td>\n",
       "      <td>-74.004704</td>\n",
       "      <td>505</td>\n",
       "      <td>6 Ave &amp; W 33 St</td>\n",
       "      <td>40.749013</td>\n",
       "      <td>-73.988484</td>\n",
       "      <td>21044</td>\n",
       "      <td>Subscriber</td>\n",
       "      <td>1985</td>\n",
       "      <td>2</td>\n",
       "      <td>2015-02-01 00:01:00</td>\n",
       "      <td>6</td>\n",
       "    </tr>\n",
       "    <tr>\n",
       "      <th>4</th>\n",
       "      <td>544</td>\n",
       "      <td>2/1/2015 0:01</td>\n",
       "      <td>2/1/2015 0:10</td>\n",
       "      <td>323</td>\n",
       "      <td>Lawrence St &amp; Willoughby St</td>\n",
       "      <td>40.692362</td>\n",
       "      <td>-73.986317</td>\n",
       "      <td>83</td>\n",
       "      <td>Atlantic Ave &amp; Fort Greene Pl</td>\n",
       "      <td>40.683826</td>\n",
       "      <td>-73.976323</td>\n",
       "      <td>19868</td>\n",
       "      <td>Subscriber</td>\n",
       "      <td>1957</td>\n",
       "      <td>1</td>\n",
       "      <td>2015-02-01 00:01:00</td>\n",
       "      <td>6</td>\n",
       "    </tr>\n",
       "  </tbody>\n",
       "</table>\n",
       "</div>"
      ],
      "text/plain": [
       "   tripduration      starttime       stoptime  start station id  \\\n",
       "0           801  2/1/2015 0:00  2/1/2015 0:14               521   \n",
       "1           379  2/1/2015 0:00  2/1/2015 0:07               497   \n",
       "2          2474  2/1/2015 0:01  2/1/2015 0:42               281   \n",
       "3           818  2/1/2015 0:01  2/1/2015 0:15              2004   \n",
       "4           544  2/1/2015 0:01  2/1/2015 0:10               323   \n",
       "\n",
       "                  start station name  start station latitude  \\\n",
       "0                    8 Ave & W 31 St               40.750450   \n",
       "1                 E 17 St & Broadway               40.737050   \n",
       "2  Grand Army Plaza & Central Park S               40.764397   \n",
       "3                  6 Ave & Broome St               40.724399   \n",
       "4        Lawrence St & Willoughby St               40.692362   \n",
       "\n",
       "   start station longitude  end station id               end station name  \\\n",
       "0               -73.994811             423                W 54 St & 9 Ave   \n",
       "1               -73.990093             504                1 Ave & E 15 St   \n",
       "2               -73.973715             127          Barrow St & Hudson St   \n",
       "3               -74.004704             505                6 Ave & W 33 St   \n",
       "4               -73.986317              83  Atlantic Ave & Fort Greene Pl   \n",
       "\n",
       "   end station latitude  end station longitude  bikeid    usertype  \\\n",
       "0             40.765849             -73.986905   17131  Subscriber   \n",
       "1             40.732219             -73.981656   21289  Subscriber   \n",
       "2             40.731724             -74.006744   18903  Subscriber   \n",
       "3             40.749013             -73.988484   21044  Subscriber   \n",
       "4             40.683826             -73.976323   19868  Subscriber   \n",
       "\n",
       "   birth year  gender                date  weekday  \n",
       "0        1978       2 2015-02-01 00:00:00        6  \n",
       "1        1993       1 2015-02-01 00:00:00        6  \n",
       "2        1969       2 2015-02-01 00:01:00        6  \n",
       "3        1985       2 2015-02-01 00:01:00        6  \n",
       "4        1957       1 2015-02-01 00:01:00        6  "
      ]
     },
     "execution_count": 18,
     "metadata": {},
     "output_type": "execute_result"
    }
   ],
   "source": [
    "## explore data\n",
    "data['date'] = pd.to_datetime(data['starttime'])\n",
    "data['weekday'] = data['date'].dt.weekday\n",
    "data.head()"
   ]
  },
  {
   "cell_type": "markdown",
   "metadata": {},
   "source": [
    "# Data Manipulation\n",
    "###Using the 'date' to change to the weekdays and weekend, we assigned the first five days to weekdays and the rest two days to weekend."
   ]
  },
  {
   "cell_type": "code",
   "execution_count": 19,
   "metadata": {
    "collapsed": true
   },
   "outputs": [],
   "source": [
    "def wky2wkd():\n",
    "    # generate weekday data    \n",
    "    n = 5 \n",
    "    weekday = pd.Series()\n",
    "    for i in range(n):\n",
    "        d = data['tripduration'][data['weekday']==i]\n",
    "        weekday = weekday.append(d)\n",
    "    # generate weekend data \n",
    "    m = 2\n",
    "    weekend = pd.Series()\n",
    "    for j in range(m):\n",
    "        d = data['tripduration'][data['weekday']==j+5]\n",
    "        weekend = weekend.append(d)\n",
    "    # remove outlier\n",
    "    weekday1 = weekday[~((weekday-weekday.mean()).abs()>3*weekday.std())]\n",
    "    weekend1 = weekend[~((weekend-weekend.mean()).abs()>3*weekend.std())]\n",
    "    return weekday1, weekend1"
   ]
  },
  {
   "cell_type": "markdown",
   "metadata": {},
   "source": [
    "### Caldulate mean difference between weekday and weekend"
   ]
  },
  {
   "cell_type": "code",
   "execution_count": 20,
   "metadata": {
    "collapsed": false
   },
   "outputs": [
    {
     "name": "stdout",
     "output_type": "stream",
     "text": [
      "Weekday Mean :614.01\n",
      "Weekwned Mean :617.71\n",
      "Effect size:-3.69\n"
     ]
    }
   ],
   "source": [
    "wky1, wkd1 = wky2wkd()\n",
    "\n",
    "print 'Weekday Mean :%.2f' %(wky1.mean())   \n",
    "print 'Weekwned Mean :%.2f' %(wkd1.mean())\n",
    "print \"Effect size:%.2f\" %(wky1.mean() - wkd1.mean())"
   ]
  },
  {
   "cell_type": "markdown",
   "metadata": {},
   "source": [
    "### Visualize histogram plot of the two samples"
   ]
  },
  {
   "cell_type": "code",
   "execution_count": 30,
   "metadata": {
    "collapsed": false
   },
   "outputs": [
    {
     "data": {
      "text/plain": [
       "<matplotlib.axes._subplots.AxesSubplot at 0x10bb13d90>"
      ]
     },
     "execution_count": 30,
     "metadata": {},
     "output_type": "execute_result"
    },
    {
     "data": {
      "image/png": "[encoded data removed]",
      "text/plain": [
       "<matplotlib.figure.Figure at 0x1174ca1d0>"
      ]
     },
     "metadata": {},
     "output_type": "display_data"
    }
   ],
   "source": [
    "#Plot distributions of tripduration in weekday and weekend seperately.\n",
    "plt.figure(figsize=(12, 9)) \n",
    "ax1 = plt.subplot(1,2,1) \n",
    "ax1.spines[\"top\"].set_visible(False)  ## set the top frame invisible\n",
    "ax1.spines[\"right\"].set_visible(False) ## set the right frame invisible\n",
    "ax1.get_xaxis().tick_bottom()  \n",
    "ax1.get_yaxis().tick_left()  \n",
    "plt.xlabel('Weekday_Tripduration',fontsize=10)\n",
    "plt.ylabel('Counts ',fontsize=10)\n",
    "wky1.hist(alpha=0.6)\n",
    "\n",
    "ax2 = plt.subplot(1,2,2) \n",
    "ax2.spines[\"top\"].set_visible(False)  \n",
    "ax2.spines[\"right\"].set_visible(False) \n",
    "ax2.get_xaxis().tick_bottom()  \n",
    "ax2.get_yaxis().tick_left()  \n",
    "plt.xlabel('Weekdend_Tripduration',fontsize=10)\n",
    "plt.ylabel('Counts ',fontsize=10)\n",
    "wkd1.hist(alpha=0.6)"
   ]
  },
  {
   "cell_type": "markdown",
   "metadata": {},
   "source": [
    "### Comment\n",
    "From the two histograms above we can observe that the two distributions look very similar except for sample size, indicating there aren't much difference for bikers' behavior between weekday and weekend in February. A potential guess is that people are not willing to going out by bike because of the bad weather condition in winter despite whether on weekday or weekend."
   ]
  },
  {
   "cell_type": "markdown",
   "metadata": {},
   "source": [
    "#Question: Are trip durations during weekdays significantly higher than weekends?"
   ]
  },
  {
   "cell_type": "markdown",
   "metadata": {},
   "source": [
    "##Testable hypothesis: \n",
    "###Null hypothesis: Mean trip durations aren't significantly different\n",
    "###$H_0: mean_1 - mean_2 = $0\n",
    "    \n",
    "###$H_a: mean_1 - mean_2 \\neq $0"
   ]
  },
  {
   "cell_type": "markdown",
   "metadata": {},
   "source": [
    "## Confidence Interval: alpha = 0.05"
   ]
  },
  {
   "cell_type": "markdown",
   "metadata": {},
   "source": [
    "Becasue we compare the means of the trip duration in weekdays and weekend, and we do not have the values for the population variances. We choose the t-test to examine our null hypothesis."
   ]
  },
  {
   "cell_type": "markdown",
   "metadata": {},
   "source": [
    "Perform t-test and determine the p-value."
   ]
  },
  {
   "cell_type": "code",
   "execution_count": 26,
   "metadata": {
    "collapsed": false
   },
   "outputs": [
    {
     "data": {
      "text/plain": [
       "(-1.6182577908340412, 0.10560866093596753)"
      ]
     },
     "execution_count": 26,
     "metadata": {},
     "output_type": "execute_result"
    }
   ],
   "source": [
    "## t-test\n",
    "stats.ttest_ind(wky1,wkd1)"
   ]
  },
  {
   "cell_type": "markdown",
   "metadata": {},
   "source": [
    "We get the p-value is 0.106, this number is larger than 0.05; so we fail to reject to the null hypothesis and concluded that there are no significant differences for the trip duration means between weekdays and weekend."
   ]
  },
  {
   "cell_type": "markdown",
   "metadata": {},
   "source": [
    "## Shapiro test for normal distribution"
   ]
  },
  {
   "cell_type": "markdown",
   "metadata": {},
   "source": [
    "T-test one assumption is that the data used came from a normal distribution. "
   ]
  },
  {
   "cell_type": "markdown",
   "metadata": {},
   "source": [
    "The Shapiro test is a test of normality in frequentist statistics.The null hypothesis of this test is that the population is normally distributed. If p-value is more than 0.05, we can be 95% certain that data are normally disributed. In orther words, the null hypothesis is probably true. If p-value is less than 0.05, we can be 95% certain that the data not normally distributed. That is, the null hypothesis is probably false. "
   ]
  },
  {
   "cell_type": "code",
   "execution_count": 27,
   "metadata": {
    "collapsed": false
   },
   "outputs": [
    {
     "name": "stderr",
     "output_type": "stream",
     "text": [
      "/Users/ianina/anaconda/lib/python2.7/site-packages/scipy/stats/morestats.py:997: UserWarning: p-value may not be accurate for N > 5000.\n",
      "  warnings.warn(\"p-value may not be accurate for N > 5000.\")\n"
     ]
    },
    {
     "data": {
      "text/plain": [
       "(0.8409476280212402, 0.0)"
      ]
     },
     "execution_count": 27,
     "metadata": {},
     "output_type": "execute_result"
    }
   ],
   "source": [
    "stats.shapiro(wky1)"
   ]
  },
  {
   "cell_type": "code",
   "execution_count": 28,
   "metadata": {
    "collapsed": false
   },
   "outputs": [
    {
     "data": {
      "text/plain": [
       "(0.8357008099555969, 0.0)"
      ]
     },
     "execution_count": 28,
     "metadata": {},
     "output_type": "execute_result"
    }
   ],
   "source": [
    "stats.shapiro(wkd1)"
   ]
  },
  {
   "cell_type": "markdown",
   "metadata": {},
   "source": [
    "Thus, two p-values are less than 0.05, meaning that there is no the nomal distribution. However, this result violates the assumation that sample size needed for the distribution of means to approximate normality depends on the degree of non-normality of the population. We recommend to use a nonparametric test that tests the null hypothesis."
   ]
  },
  {
   "cell_type": "markdown",
   "metadata": {},
   "source": [
    "##Brown-Mood Median Test\n",
    "Given the fact that we fail the normality assumption of the model, it seems that a t-test is not a good idea to examine the relationship between the two samples. Therefor, we introduce the Brown-Mood Median test, a nonparametirc test, to compare the two distributions (weekday vs. weekend) by testing that the two samples come from populations with the same median. The null hypothesis and alternative hypothesis are listed as follows.\n",
    "###$H_0: med_1 - med_2 = $0\n",
    "    \n",
    "###$H_a: med_1 - med_2 \\neq $0  "
   ]
  },
  {
   "cell_type": "code",
   "execution_count": 22,
   "metadata": {
    "collapsed": true
   },
   "outputs": [],
   "source": [
    "from scipy.stats import median_test\n",
    "stat, p, med, tbl = median_test(wky1,wkd1)"
   ]
  },
  {
   "cell_type": "code",
   "execution_count": 23,
   "metadata": {
    "collapsed": false
   },
   "outputs": [
    {
     "data": {
      "text/plain": [
       "array([[78054, 19958],\n",
       "       [77461, 20673]])"
      ]
     },
     "execution_count": 23,
     "metadata": {},
     "output_type": "execute_result"
    }
   ],
   "source": [
    "tbl"
   ]
  },
  {
   "cell_type": "code",
   "execution_count": 24,
   "metadata": {
    "collapsed": false
   },
   "outputs": [
    {
     "name": "stdout",
     "output_type": "stream",
     "text": [
      "P-value<0.05?: True\n"
     ]
    }
   ],
   "source": [
    "print 'P-value<0.05?: %s' %(p<0.05)"
   ]
  },
  {
   "cell_type": "markdown",
   "metadata": {},
   "source": [
    "### Comment\n",
    "Since the p-value is smaller than the significant level, we reject the null hypothesis that the medians of the two samples are the same. We conclude that the median trip duration for weekday and weekend are significant different."
   ]
  }
 ],
 "metadata": {
  "kernelspec": {
   "display_name": "Python 2",
   "language": "python",
   "name": "python2"
  },
  "language_info": {
   "codemirror_mode": {
    "name": "ipython",
    "version": 2
   },
   "file_extension": ".py",
   "mimetype": "text/x-python",
   "name": "python",
   "nbconvert_exporter": "python",
   "pygments_lexer": "ipython2",
   "version": "2.7.10"
  }
 },
 "nbformat": 4,
 "nbformat_minor": 0
}
