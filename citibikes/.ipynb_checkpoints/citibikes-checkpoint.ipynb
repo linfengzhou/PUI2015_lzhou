{
 "cells": [
  {
   "cell_type": "code",
   "execution_count": 1,
   "metadata": {
    "collapsed": true
   },
   "outputs": [],
   "source": [
    "import pandas as pd"
   ]
  },
  {
   "cell_type": "code",
   "execution_count": 2,
   "metadata": {
    "collapsed": false
   },
   "outputs": [
    {
     "name": "stdout",
     "output_type": "stream",
     "text": [
      "<class 'pandas.core.frame.DataFrame'>\n",
      "Int64Index: 961986 entries, 0 to 961985\n",
      "Data columns (total 15 columns):\n",
      "tripduration               961986 non-null int64\n",
      "starttime                  961986 non-null object\n",
      "stoptime                   961986 non-null object\n",
      "start station id           961986 non-null int64\n",
      "start station name         961986 non-null object\n",
      "start station latitude     961986 non-null float64\n",
      "start station longitude    961986 non-null float64\n",
      "end station id             961986 non-null int64\n",
      "end station name           961986 non-null object\n",
      "end station latitude       961986 non-null float64\n",
      "end station longitude      961986 non-null float64\n",
      "bikeid                     961986 non-null int64\n",
      "usertype                   961986 non-null object\n",
      "birth year                 794434 non-null float64\n",
      "gender                     961986 non-null int64\n",
      "dtypes: float64(5), int64(5), object(5)\n",
      "memory usage: 117.4+ MB\n",
      "2\n"
     ]
    }
   ],
   "source": [
    "data = pd.read_csv(\"201505-citibike-tripdata.csv\")"
   ]
  },
  {
   "cell_type": "code",
   "execution_count": null,
   "metadata": {
    "collapsed": true
   },
   "outputs": [],
   "source": [
    "## explore data\n",
    "type(data)\n",
    "data.info()\n",
    "data.keys()"
   ]
  },
  {
   "cell_type": "code",
   "execution_count": null,
   "metadata": {
    "collapsed": true
   },
   "outputs": [],
   "source": [
    "usertype = data['usertype']\n",
    "tripduration = data['tripduration']\n",
    "gender = data['gender']"
   ]
  },
  {
   "cell_type": "code",
   "execution_count": null,
   "metadata": {
    "collapsed": true
   },
   "outputs": [],
   "source": [
    "data['date'] = pd.to_datetime(data['starttime'])\n",
    "data['weekday'] = data['date'].dt.weekday"
   ]
  },
  {
   "cell_type": "code",
   "execution_count": null,
   "metadata": {
    "collapsed": true
   },
   "outputs": [],
   "source": [
    "crosscounts = pd.crosstab(data['usertype'], data['weekday'])\n",
    "customer = crosscounts[0:1]\n",
    "subscriber = crosscounts[1:2]\n",
    "customer_weekday = customer[[0,1,2,3,4]].sum(axis=1)[0] / 5 \n",
    "customer_weekend = customer[[5,6]].sum(axis=1)[0] / 2 \n",
    "subscriber_weekday = subscriber[[0,1,2,3,4]].sum(axis=1)[0] / 5\n",
    "subscriber_weekend = subscriber[[5,6]].sum(axis=1)[0] / 2 "
   ]
  },
  {
   "cell_type": "code",
   "execution_count": null,
   "metadata": {
    "collapsed": true
   },
   "outputs": [],
   "source": [
    "a = customer_weekday \n",
    "b = customer_weekend\n",
    "c = subscriber_weekday\n",
    "d = subscriber_weekend"
   ]
  },
  {
   "cell_type": "markdown",
   "metadata": {},
   "source": [
    "|behavior group by usertype  |     customer   | subscribe   |                   \n",
    "|---------------------------|----------------|------------------|---------------------------|\n",
    "| weekday               |   18438  |   122162   |     140600               |\n",
    "| weekend            | 37676   |   91815   |  129491                       |\n",
    "| total                     |  56114      |  213977     | 270091         |"
   ]
  },
  {
   "cell_type": "code",
   "execution_count": 3,
   "metadata": {
    "collapsed": false
   },
   "outputs": [
    {
     "name": "stdout",
     "output_type": "stream",
     "text": [
      "2\n"
     ]
    }
   ],
   "source": [
    "Ntot = a + b + c + d\n",
    "expected = (a+b)*(c+d)*(a+c)*(b+d)\n",
    "sample_values = [[a,c],[b,d]]\n",
    " \n",
    "chisqstat= lambda N, values, expect : N*((values[0][0]*values[1][1]-values[0][1]*values[1][0])**2)/(expect)\n",
    "\n",
    "print chisqstat(Ntot,  sample_values, expected)"
   ]
  },
  {
   "cell_type": "code",
   "execution_count": null,
   "metadata": {
    "collapsed": true
   },
   "outputs": [],
   "source": []
  }
 ],
 "metadata": {
  "kernelspec": {
   "display_name": "Python 2",
   "language": "python",
   "name": "python2"
  },
  "language_info": {
   "codemirror_mode": {
    "name": "ipython",
    "version": 2
   },
   "file_extension": ".py",
   "mimetype": "text/x-python",
   "name": "python",
   "nbconvert_exporter": "python",
   "pygments_lexer": "ipython2",
   "version": "2.7.10"
  }
 },
 "nbformat": 4,
 "nbformat_minor": 0
}
