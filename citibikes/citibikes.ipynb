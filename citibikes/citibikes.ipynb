{
 "cells": [
  {
   "cell_type": "code",
   "execution_count": 8,
   "metadata": {
    "collapsed": true
   },
   "outputs": [],
   "source": [
    "import pandas as pd\n",
    "from scipy import stats"
   ]
  },
  {
   "cell_type": "code",
   "execution_count": 3,
   "metadata": {
    "collapsed": false
   },
   "outputs": [],
   "source": [
    "data = pd.read_csv(\"201505-citibike-tripdata.csv\")"
   ]
  },
  {
   "cell_type": "code",
   "execution_count": 4,
   "metadata": {
    "collapsed": true
   },
   "outputs": [],
   "source": [
    "tripduration = data['tripduration']\n",
    "data['date'] = pd.to_datetime(data['starttime'])\n",
    "data['weekday'] = data['date'].dt.weekday"
   ]
  },
  {
   "cell_type": "code",
   "execution_count": 5,
   "metadata": {
    "collapsed": true
   },
   "outputs": [],
   "source": [
    "d1 = data['tripduration'][data['weekday']==0]\n",
    "d2 = data['tripduration'][data['weekday']==1]\n",
    "d3 = data['tripduration'][data['weekday']==2]\n",
    "d4 = data['tripduration'][data['weekday']==3]\n",
    "d5 = data['tripduration'][data['weekday']==4]\n",
    "d6 = data['tripduration'][data['weekday']==5]\n",
    "d7 = data['tripduration'][data['weekday']==6]"
   ]
  },
  {
   "cell_type": "code",
   "execution_count": 6,
   "metadata": {
    "collapsed": true
   },
   "outputs": [],
   "source": [
    "weekday = d1 \n",
    "weekday = weekday.append(d2)\n",
    "weekday = weekday.append(d3)\n",
    "weekday = weekday.append(d4)\n",
    "weekday = weekday.append(d5)\n",
    "weekend = d6\n",
    "weekend = weekend.append(d7)"
   ]
  },
  {
   "cell_type": "code",
   "execution_count": 9,
   "metadata": {
    "collapsed": false
   },
   "outputs": [
    {
     "data": {
      "text/plain": [
       "(-16.456519345780904, 7.6767864996297437e-61)"
      ]
     },
     "execution_count": 9,
     "metadata": {},
     "output_type": "execute_result"
    }
   ],
   "source": [
    "stats.ttest_ind(weekday,weekend)"
   ]
  }
 ],
 "metadata": {
  "kernelspec": {
   "display_name": "Python 2",
   "language": "python",
   "name": "python2"
  },
  "language_info": {
   "codemirror_mode": {
    "name": "ipython",
    "version": 2
   },
   "file_extension": ".py",
   "mimetype": "text/x-python",
   "name": "python",
   "nbconvert_exporter": "python",
   "pygments_lexer": "ipython2",
   "version": "2.7.10"
  }
 },
 "nbformat": 4,
 "nbformat_minor": 0
}
