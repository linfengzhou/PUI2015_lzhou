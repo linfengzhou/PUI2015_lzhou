{
 "cells": [
  {
   "cell_type": "markdown",
   "metadata": {},
   "source": [
    "# Basic Python Data Structures"
   ]
  },
  {
   "cell_type": "markdown",
   "metadata": {},
   "source": [
    "---"
   ]
  },
  {
   "cell_type": "markdown",
   "metadata": {},
   "source": [
    "## Lists"
   ]
  },
  {
   "cell_type": "code",
   "execution_count": 12,
   "metadata": {
    "collapsed": false
   },
   "outputs": [
    {
     "name": "stdout",
     "output_type": "stream",
     "text": [
      "[]\n"
     ]
    }
   ],
   "source": [
    "# Lists\n",
    "# A list is an ordered collection of data\n",
    "\n",
    "# An empty list\n",
    "city = []\n",
    "print city"
   ]
  },
  {
   "cell_type": "code",
   "execution_count": null,
   "metadata": {
    "collapsed": false
   },
   "outputs": [],
   "source": [
    "# Append items to list\n",
    "city.append(\"Beijing\")\n",
    "city.append(\"San Diego\")\n",
    "city.append(\"Istanbul\")\n",
    "city.append(\"Moscow\")\n",
    "city.append(\"Bangalore\")\n",
    "city.append(\"New York\")\n",
    "print city"
   ]
  },
  {
   "cell_type": "code",
   "execution_count": null,
   "metadata": {
    "collapsed": false
   },
   "outputs": [],
   "source": [
    "# You can access an items by referencing its index\n",
    "print city[0]\n",
    "print city[2]"
   ]
  },
  {
   "cell_type": "code",
   "execution_count": null,
   "metadata": {
    "collapsed": false
   },
   "outputs": [],
   "source": [
    "# You can also change a value at an index\n",
    "city[5] = \"Brooklyn\"\n",
    "print city"
   ]
  },
  {
   "cell_type": "code",
   "execution_count": null,
   "metadata": {
    "collapsed": false
   },
   "outputs": [],
   "source": [
    "# Lists can contain any kind of data. \n",
    "city.append(42)\n",
    "print city"
   ]
  },
  {
   "cell_type": "code",
   "execution_count": null,
   "metadata": {
    "collapsed": false
   },
   "outputs": [],
   "source": [
    "# But just be careful mixing different data types unless you know what you're doing.\n",
    "mixedList = [1, 2, 3, 4, 5, \"six\"]\n",
    "total = 0\n",
    "for num in mixedList:\n",
    "    total += num\n",
    "print total"
   ]
  },
  {
   "cell_type": "markdown",
   "metadata": {},
   "source": [
    "## Dictionaries"
   ]
  },
  {
   "cell_type": "code",
   "execution_count": null,
   "metadata": {
    "collapsed": false
   },
   "outputs": [],
   "source": [
    "# Dictionaries\n",
    "# A dictionary is an unordered collection of data\n",
    "\n",
    "# An empty dictionary\n",
    "musician = {}\n",
    "print musician"
   ]
  },
  {
   "cell_type": "code",
   "execution_count": null,
   "metadata": {
    "collapsed": false
   },
   "outputs": [],
   "source": [
    "# Items in dictionaries are stored as key-value pairs\n",
    "musician[\"Drake\"] = \"Hip-hop\"\n",
    "musician[\"Kanye West\"] = \"Hip-hop\"\n",
    "musician[\"Skrillex\"] = \"Electronic\"\n",
    "musician[\"Michael Jackson\"] = \"Pop\"\n",
    "print musician"
   ]
  },
  {
   "cell_type": "code",
   "execution_count": null,
   "metadata": {
    "collapsed": false
   },
   "outputs": [],
   "source": [
    "# Keys are always unique. Values can be anything\n",
    "musician[\"Drake\"] = \"R&B\"\n",
    "musician[\"The Beatles\"] = [\"Rock\", \"Pop\"]\n",
    "print musician"
   ]
  },
  {
   "cell_type": "code",
   "execution_count": null,
   "metadata": {
    "collapsed": false
   },
   "outputs": [],
   "source": [
    "# Access a value by providing a key\n",
    "print musician[\"Skrillex\"]"
   ]
  },
  {
   "cell_type": "code",
   "execution_count": null,
   "metadata": {
    "collapsed": false
   },
   "outputs": [],
   "source": [
    "# Access a list item inside of a dictionary\n",
    "print musician[\"The Beatles\"][1]"
   ]
  },
  {
   "cell_type": "code",
   "execution_count": null,
   "metadata": {
    "collapsed": false
   },
   "outputs": [],
   "source": [
    "# Iterating through a dictionary with a for loop will give you each key\n",
    "for key in musician:\n",
    "    print key"
   ]
  },
  {
   "cell_type": "code",
   "execution_count": null,
   "metadata": {
    "collapsed": false
   },
   "outputs": [],
   "source": [
    "# You can get the key and value together by using the iteritems function\n",
    "for k, v in musician.iteritems():\n",
    "    print k, \"is a\", v, \"artist.\""
   ]
  },
  {
   "cell_type": "code",
   "execution_count": null,
   "metadata": {
    "collapsed": true
   },
   "outputs": [],
   "source": [
    "# You can learn more about these fundamental data structures here:\n",
    "# https://docs.python.org/2/tutorial/datastructures.html"
   ]
  }
 ],
 "metadata": {
  "kernelspec": {
   "display_name": "Python 2",
   "language": "python",
   "name": "python2"
  },
  "language_info": {
   "codemirror_mode": {
    "name": "ipython",
    "version": 2
   },
   "file_extension": ".py",
   "mimetype": "text/x-python",
   "name": "python",
   "nbconvert_exporter": "python",
   "pygments_lexer": "ipython2",
   "version": "2.7.10"
  }
 },
 "nbformat": 4,
 "nbformat_minor": 0
}
